{
 "cells": [
  {
   "cell_type": "markdown",
   "id": "7af08d96-757c-4986-bc3c-8ac1c65de3dd",
   "metadata": {},
   "source": [
    "# SQL: Popular Movies Data Set\n",
    "\n",
    "## Abby Lloyd\n",
    "\n",
    "## Description: \n",
    "This project creates a PostrgeSQL database and loads in data from csv files. The tables are altered and the data is explored.\n",
    "\n",
    "## Skills Demonstrated:\n",
    "\n",
    "- PostgreSQL\n",
    "- Database and table creation\n",
    "- Data cleaning\n",
    "- Data querying\n",
    "\n",
    "## Github Link: https://github.com/abbylloyd03/Portfolio"
   ]
  },
  {
   "cell_type": "markdown",
   "id": "e86d459c-f4bf-4731-9831-a1de77c0affa",
   "metadata": {},
   "source": [
    "# Step 1: Find Data for Project\n",
    "- I decided to use a Kaggle data set that included ratings for popular movies: https://www.kaggle.com/datasets/whenamancodes/popular-movies-datasets-58000-movies\n"
   ]
  },
  {
   "cell_type": "code",
   "execution_count": 1,
   "id": "6686a494-3277-4a52-aa7e-4b80150e0713",
   "metadata": {},
   "outputs": [
    {
     "data": {
      "text/html": [
       "<img src=\"Kaggle.png\" width=\"900\" height=\"900\"/>"
      ],
      "text/plain": [
       "<IPython.core.display.Image object>"
      ]
     },
     "execution_count": 1,
     "metadata": {},
     "output_type": "execute_result"
    }
   ],
   "source": [
    "# import image module\n",
    "from IPython.display import Image\n",
    "  \n",
    "# get the image\n",
    "Image(url=\"Kaggle.png\", width=900, height=900)"
   ]
  },
  {
   "cell_type": "markdown",
   "id": "3c42e473-59cb-4896-a41d-f842888256d0",
   "metadata": {},
   "source": [
    "# Step 2: Create Database & Tables"
   ]
  },
  {
   "cell_type": "markdown",
   "id": "6d6d239c-7cdb-4266-817b-00abb4ee8bcd",
   "metadata": {},
   "source": [
    "### Create Database"
   ]
  },
  {
   "cell_type": "code",
   "execution_count": 2,
   "id": "fb943e32-51ec-4338-97fa-a32f2c8128bd",
   "metadata": {},
   "outputs": [
    {
     "data": {
      "text/html": [
       "<img src=\"Database.png\" width=\"900\" height=\"900\"/>"
      ],
      "text/plain": [
       "<IPython.core.display.Image object>"
      ]
     },
     "execution_count": 2,
     "metadata": {},
     "output_type": "execute_result"
    }
   ],
   "source": [
    "# get the image\n",
    "Image(url=\"Database.png\", width=900, height=900)"
   ]
  },
  {
   "cell_type": "markdown",
   "id": "56da5c3a-28b4-4ca9-b455-ed5980db9bcf",
   "metadata": {},
   "source": [
    "### Create Table - Movies"
   ]
  },
  {
   "cell_type": "code",
   "execution_count": 3,
   "id": "98119db7-a8ee-49fa-950b-79ed214d4f2c",
   "metadata": {},
   "outputs": [
    {
     "data": {
      "text/html": [
       "<img src=\"Movies_Table.png\" width=\"900\" height=\"900\"/>"
      ],
      "text/plain": [
       "<IPython.core.display.Image object>"
      ]
     },
     "execution_count": 3,
     "metadata": {},
     "output_type": "execute_result"
    }
   ],
   "source": [
    "# get the image\n",
    "Image(url=\"Movies_Table.png\", width=900, height=900)"
   ]
  },
  {
   "cell_type": "markdown",
   "id": "806ff1ea-d23f-4173-a4ac-7cd20c9813c4",
   "metadata": {},
   "source": [
    "### Create Table: Ratings"
   ]
  },
  {
   "cell_type": "code",
   "execution_count": 4,
   "id": "6e0b3c4f-21d3-4634-9ec9-4174885a24ca",
   "metadata": {},
   "outputs": [
    {
     "data": {
      "text/html": [
       "<img src=\"Ratings_Table.png\" width=\"900\" height=\"900\"/>"
      ],
      "text/plain": [
       "<IPython.core.display.Image object>"
      ]
     },
     "execution_count": 4,
     "metadata": {},
     "output_type": "execute_result"
    }
   ],
   "source": [
    "# get the image\n",
    "Image(url=\"Ratings_Table.png\", width=900, height=900)"
   ]
  },
  {
   "cell_type": "markdown",
   "id": "81f30504-de10-42ce-8662-d4b80edea13b",
   "metadata": {},
   "source": [
    "### Create Table: Tags"
   ]
  },
  {
   "cell_type": "code",
   "execution_count": 5,
   "id": "b2009d3d-cfc6-481a-b702-56f662fdce27",
   "metadata": {},
   "outputs": [
    {
     "data": {
      "text/html": [
       "<img src=\"Tags_Table.png\" width=\"900\" height=\"900\"/>"
      ],
      "text/plain": [
       "<IPython.core.display.Image object>"
      ]
     },
     "execution_count": 5,
     "metadata": {},
     "output_type": "execute_result"
    }
   ],
   "source": [
    "# get the image\n",
    "Image(url=\"Tags_Table.png\", width=900, height=900)"
   ]
  },
  {
   "cell_type": "markdown",
   "id": "ddbb0308-daf0-4ffd-a279-467d2c793bb9",
   "metadata": {},
   "source": [
    "# Step 3: Load Data Into Database Using PSQL"
   ]
  },
  {
   "cell_type": "code",
   "execution_count": 6,
   "id": "749a7639-5588-4977-b681-18b12eb9e647",
   "metadata": {},
   "outputs": [
    {
     "data": {
      "text/html": [
       "<img src=\"PSQL_Load_Data.png\" width=\"900\" height=\"900\"/>"
      ],
      "text/plain": [
       "<IPython.core.display.Image object>"
      ]
     },
     "execution_count": 6,
     "metadata": {},
     "output_type": "execute_result"
    }
   ],
   "source": [
    "# get the image\n",
    "Image(url=\"PSQL_Load_Data.png\", width=900, height=900)"
   ]
  },
  {
   "cell_type": "markdown",
   "id": "7267d58d-18bd-47d8-aeed-9c66a862aab1",
   "metadata": {},
   "source": [
    "# Step 4: Check Work and Make Sure Data Is Loaded Properly"
   ]
  },
  {
   "cell_type": "code",
   "execution_count": 7,
   "id": "4e742851-b684-4107-92f9-6ee71419c28a",
   "metadata": {},
   "outputs": [
    {
     "data": {
      "text/html": [
       "<img src=\"Select_All_Movies.png\" width=\"900\" height=\"900\"/>"
      ],
      "text/plain": [
       "<IPython.core.display.Image object>"
      ]
     },
     "execution_count": 7,
     "metadata": {},
     "output_type": "execute_result"
    }
   ],
   "source": [
    "# get the image\n",
    "Image(url=\"Select_All_Movies.png\", width=900, height=900)"
   ]
  },
  {
   "cell_type": "code",
   "execution_count": 8,
   "id": "661e507b-0ddf-4a86-a181-9b59cee5647b",
   "metadata": {},
   "outputs": [
    {
     "data": {
      "text/html": [
       "<img src=\"Select_All_Ratings.png\" width=\"900\" height=\"900\"/>"
      ],
      "text/plain": [
       "<IPython.core.display.Image object>"
      ]
     },
     "execution_count": 8,
     "metadata": {},
     "output_type": "execute_result"
    }
   ],
   "source": [
    "# get the image\n",
    "Image(url=\"Select_All_Ratings.png\", width=900, height=900)"
   ]
  },
  {
   "cell_type": "code",
   "execution_count": 9,
   "id": "2044c366-9b4e-4413-b5c1-fa484a856422",
   "metadata": {},
   "outputs": [
    {
     "data": {
      "text/html": [
       "<img src=\"Select_All_Tags.png\" width=\"900\" height=\"900\"/>"
      ],
      "text/plain": [
       "<IPython.core.display.Image object>"
      ]
     },
     "execution_count": 9,
     "metadata": {},
     "output_type": "execute_result"
    }
   ],
   "source": [
    "# get the image\n",
    "Image(url=\"Select_All_Tags.png\", width=900, height=900)"
   ]
  },
  {
   "cell_type": "markdown",
   "id": "4d2c2ff6-db64-4092-b246-d6a031b7d0e1",
   "metadata": {},
   "source": [
    "# Step 5: Clean Data - Change Unix Date Time to Timestamp"
   ]
  },
  {
   "cell_type": "markdown",
   "id": "5b6a9620-6950-43fe-8ba9-019c75f8c6b2",
   "metadata": {},
   "source": [
    "### Change Ratings Date from Varchar to Integer"
   ]
  },
  {
   "cell_type": "code",
   "execution_count": 10,
   "id": "cddc9229-f829-4077-8dbd-53c58be1dba3",
   "metadata": {},
   "outputs": [
    {
     "data": {
      "text/html": [
       "<img src=\"RatingsDateToInteger.png\" width=\"900\" height=\"900\"/>"
      ],
      "text/plain": [
       "<IPython.core.display.Image object>"
      ]
     },
     "execution_count": 10,
     "metadata": {},
     "output_type": "execute_result"
    }
   ],
   "source": [
    "# get the image\n",
    "Image(url=\"RatingsDateToInteger.png\", width=900, height=900)"
   ]
  },
  {
   "cell_type": "markdown",
   "id": "d52b179c-3ec9-4819-92f5-5e2dff07caea",
   "metadata": {},
   "source": [
    "### Change Tags Date from Varchar to Integer"
   ]
  },
  {
   "cell_type": "code",
   "execution_count": 11,
   "id": "35793878-5cbd-4651-a655-3785cd19bc76",
   "metadata": {},
   "outputs": [
    {
     "data": {
      "text/html": [
       "<img src=\"TagDateToInteger.png\" width=\"900\" height=\"900\"/>"
      ],
      "text/plain": [
       "<IPython.core.display.Image object>"
      ]
     },
     "execution_count": 11,
     "metadata": {},
     "output_type": "execute_result"
    }
   ],
   "source": [
    "# get the image\n",
    "Image(url=\"TagDateToInteger.png\", width=900, height=900)"
   ]
  },
  {
   "cell_type": "markdown",
   "id": "5194cf14-d87a-498c-b893-b1bdc22a7934",
   "metadata": {},
   "source": [
    "### Create New Column for Ratings Time Stamp and Load Data"
   ]
  },
  {
   "cell_type": "code",
   "execution_count": 12,
   "id": "99041f48-1630-40b0-8e33-89345f6dbc38",
   "metadata": {},
   "outputs": [
    {
     "data": {
      "text/html": [
       "<img src=\"Ratings_Add_Column.png\" width=\"900\" height=\"900\"/>"
      ],
      "text/plain": [
       "<IPython.core.display.Image object>"
      ]
     },
     "execution_count": 12,
     "metadata": {},
     "output_type": "execute_result"
    }
   ],
   "source": [
    "# get the image\n",
    "Image(url=\"Ratings_Add_Column.png\", width=900, height=900)"
   ]
  },
  {
   "cell_type": "markdown",
   "id": "5bc4f972-170c-48e9-b0f5-6ed0506798b9",
   "metadata": {},
   "source": [
    "### Check Work - New Column with Timestamp in Ratings Table"
   ]
  },
  {
   "cell_type": "code",
   "execution_count": 13,
   "id": "965a47a1-db3b-4b7d-bd1b-0adf9d82fcee",
   "metadata": {},
   "outputs": [
    {
     "data": {
      "text/html": [
       "<img src=\"Ratings_With_Timestamp.png\" width=\"900\" height=\"900\"/>"
      ],
      "text/plain": [
       "<IPython.core.display.Image object>"
      ]
     },
     "execution_count": 13,
     "metadata": {},
     "output_type": "execute_result"
    }
   ],
   "source": [
    "# get the image\n",
    "Image(url=\"Ratings_With_Timestamp.png\", width=900, height=900)"
   ]
  },
  {
   "cell_type": "markdown",
   "id": "d09c2faf-d815-4671-9d0c-e424fa74b5fd",
   "metadata": {},
   "source": [
    "### Create New Column for Tag Time Stamp and Load Data"
   ]
  },
  {
   "cell_type": "code",
   "execution_count": 14,
   "id": "5d80746f-5866-49d8-bf5d-0cdd473e3078",
   "metadata": {},
   "outputs": [
    {
     "data": {
      "text/html": [
       "<img src=\"Tag_Add_Column.png\" width=\"900\" height=\"900\"/>"
      ],
      "text/plain": [
       "<IPython.core.display.Image object>"
      ]
     },
     "execution_count": 14,
     "metadata": {},
     "output_type": "execute_result"
    }
   ],
   "source": [
    "# get the image\n",
    "Image(url=\"Tag_Add_Column.png\", width=900, height=900)"
   ]
  },
  {
   "cell_type": "markdown",
   "id": "5c777c93-69c2-41de-9689-adfd3436a507",
   "metadata": {},
   "source": [
    "### Check Work - New Column with Timestamp in Tags Table"
   ]
  },
  {
   "cell_type": "code",
   "execution_count": 15,
   "id": "4e03840c-1239-41c4-9e7a-ff55d10a4448",
   "metadata": {},
   "outputs": [
    {
     "data": {
      "text/html": [
       "<img src=\"Tags_With_Timestamp.png\" width=\"900\" height=\"900\"/>"
      ],
      "text/plain": [
       "<IPython.core.display.Image object>"
      ]
     },
     "execution_count": 15,
     "metadata": {},
     "output_type": "execute_result"
    }
   ],
   "source": [
    "# get the image\n",
    "Image(url=\"Tags_With_Timestamp.png\", width=900, height=900)"
   ]
  },
  {
   "cell_type": "markdown",
   "id": "493b2cc5-8111-47a8-ba2e-c8a90252a921",
   "metadata": {},
   "source": [
    "# Step 6: Explore Data"
   ]
  },
  {
   "cell_type": "markdown",
   "id": "d96cc4c7-d18f-48b9-978e-71bc8f2a9147",
   "metadata": {},
   "source": [
    "### Question: How many movies has the top user rated and what is their avg movie rating?\n",
    "- User #123100 has rated 23,715 movies\n",
    "- This user's average movie rating is 3.13"
   ]
  },
  {
   "cell_type": "code",
   "execution_count": 16,
   "id": "b8b8bebd-8186-4a0f-936b-9fde39403650",
   "metadata": {},
   "outputs": [
    {
     "data": {
      "text/html": [
       "<img src=\"Top_User.png\" width=\"900\" height=\"900\"/>"
      ],
      "text/plain": [
       "<IPython.core.display.Image object>"
      ]
     },
     "execution_count": 16,
     "metadata": {},
     "output_type": "execute_result"
    }
   ],
   "source": [
    "# get the image\n",
    "Image(url=\"Top_User.png\", width=900, height=900)"
   ]
  },
  {
   "cell_type": "markdown",
   "id": "3c543011-7e31-48d8-9289-d341f8d936b5",
   "metadata": {},
   "source": [
    "### Question: Which genres have the lowest ratings?\n",
    "- Horror movies had the lowest average rating of 3.28\n",
    "- This was followed by movies that were not assigned a genre. These movies had an average rating of 3.29."
   ]
  },
  {
   "cell_type": "markdown",
   "id": "90f8f083-a441-4bd4-a458-ca8059382f9a",
   "metadata": {},
   "source": [
    "### Unnest genres and join movies with ratings"
   ]
  },
  {
   "cell_type": "code",
   "execution_count": 17,
   "id": "02697534-6865-4ebf-bdab-48ffa8b4eabc",
   "metadata": {},
   "outputs": [
    {
     "data": {
      "text/html": [
       "<img src=\"Unnest_genres.png\" width=\"900\" height=\"900\"/>"
      ],
      "text/plain": [
       "<IPython.core.display.Image object>"
      ]
     },
     "execution_count": 17,
     "metadata": {},
     "output_type": "execute_result"
    }
   ],
   "source": [
    "# get the image\n",
    "Image(url=\"Unnest_genres.png\", width=900, height=900)"
   ]
  },
  {
   "cell_type": "markdown",
   "id": "3e8bc8c8-38f0-4993-b27c-a7b32cad03f4",
   "metadata": {},
   "source": [
    "### Group movies by genre and rank the genres from lowest ratings to highest ratings"
   ]
  },
  {
   "cell_type": "code",
   "execution_count": 18,
   "id": "5bdaf95d-11be-4cbe-bd61-46251d202d64",
   "metadata": {},
   "outputs": [
    {
     "data": {
      "text/html": [
       "<img src=\"Genre_Rankings.png\" width=\"900\" height=\"900\"/>"
      ],
      "text/plain": [
       "<IPython.core.display.Image object>"
      ]
     },
     "execution_count": 18,
     "metadata": {},
     "output_type": "execute_result"
    }
   ],
   "source": [
    "# get the image\n",
    "Image(url=\"Genre_Rankings.png\", width=900, height=900)"
   ]
  }
 ],
 "metadata": {
  "kernelspec": {
   "display_name": "Python 3 (ipykernel)",
   "language": "python",
   "name": "python3"
  },
  "language_info": {
   "codemirror_mode": {
    "name": "ipython",
    "version": 3
   },
   "file_extension": ".py",
   "mimetype": "text/x-python",
   "name": "python",
   "nbconvert_exporter": "python",
   "pygments_lexer": "ipython3",
   "version": "3.9.7"
  }
 },
 "nbformat": 4,
 "nbformat_minor": 5
}
